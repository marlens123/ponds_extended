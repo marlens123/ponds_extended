{
 "cells": [
  {
   "cell_type": "code",
   "execution_count": 1,
   "metadata": {},
   "outputs": [],
   "source": [
    "import netCDF4\n",
    "import matplotlib.pyplot as plt\n",
    "import numpy as np\n",
    "import os\n",
    "\n",
    "from utils.image_transform import crop_center_square"
   ]
  },
  {
   "cell_type": "markdown",
   "metadata": {},
   "source": [
    "# Prepare data for qualitative prediction\n",
    "This notebook was used to preprocess the .nc data for qualitative prediction (similar to prepare_data.py). This is not necessarily needed to run 'qualitative_evaluation.ipynb', because we provide the prepared data.\n",
    "\n",
    "However, if you want to run this notebook, exchange the following:\n",
    "\n",
    "- flight9_dir = 'unet_melt_pond_detection/nc_data/flight9/IRdata_ATWAICE_processed_220718_142920.nc'\n",
    "- flight16_dir = 'unet_melt_pond_detection/nc_data/flight16/IRdata_ATWAICE_processed_220730_111439.nc'\n",
    "\n",
    ", and the respective save paths.\n",
    "\n",
    "Additionally, we used this notebook to prepare the 50 ir images used for mpf computation. For this, you need\n",
    "\n",
    "- ir_dir = 'unet_melt_pond_detection/mpf_data/ir_processed'"
   ]
  },
  {
   "cell_type": "code",
   "execution_count": 2,
   "metadata": {},
   "outputs": [],
   "source": [
    "flight9_dir = 'E:/polar/code/data/flight9/IRdata_ATWAICE_processed_220718_142920.nc'\n",
    "flight16_dir = 'E:/polar/code/data/flight16/IRdata_ATWAICE_processed_220730_111439.nc'"
   ]
  },
  {
   "cell_type": "code",
   "execution_count": 3,
   "metadata": {},
   "outputs": [],
   "source": [
    "ir_dir = 'E:/polar/code/data/evaluation/mpf/ir_processed/'\n",
    "\n",
    "image_numbers = []\n",
    "\n",
    "for f in os.listdir(ir_dir):\n",
    "    name = f\n",
    "    last_underscore_index = f.rfind('_')\n",
    "    last_period_index = f.rfind('.')\n",
    "    image_numbers.append(int(f[last_underscore_index + 1:last_period_index]))"
   ]
  },
  {
   "cell_type": "code",
   "execution_count": 4,
   "metadata": {},
   "outputs": [],
   "source": [
    "#### Convert netcdf data to numpy array ####\n",
    "ds = netCDF4.Dataset(flight9_dir)\n",
    "imgs = ds.variables['Ts'][:]\n",
    "timestamps = ds.variables['time'][:]"
   ]
  },
  {
   "cell_type": "code",
   "execution_count": 5,
   "metadata": {},
   "outputs": [],
   "source": [
    "# images to predict from flight 9\n",
    "imgs_flight9 = [imgs[27],imgs[878],imgs[1929],imgs[4572],imgs[2405],imgs[3168],imgs[2028]]\n",
    "imgs_mpf = [imgs[i] for i in image_numbers]\n",
    "\n",
    "tmp = []"
   ]
  },
  {
   "cell_type": "code",
   "execution_count": 6,
   "metadata": {},
   "outputs": [],
   "source": [
    "tmp = []\n",
    "\n",
    "for im in imgs_mpf:\n",
    "    im = crop_center_square(im)\n",
    "    tmp.append(im)\n",
    "\n",
    "imgs_mpf = tmp\n",
    "\n",
    "for idx, img in enumerate(imgs_mpf):\n",
    "    plt.imsave('E:/polar/code/data/evaluation/mpf/ir/{}.png'.format(idx), img, cmap='gray')"
   ]
  },
  {
   "cell_type": "code",
   "execution_count": null,
   "metadata": {},
   "outputs": [],
   "source": [
    "tmp = []\n",
    "\n",
    "for im in imgs_flight9:\n",
    "    im = crop_center_square(im)\n",
    "    tmp.append(im)\n",
    "\n",
    "imgs_flight9 = tmp\n",
    "\n",
    "for idx, img in enumerate(imgs_flight9):\n",
    "    plt.imsave('E:/polar/code/data/evaluation/qualitative/flight9/{}.png'.format(idx), img, cmap='gray')"
   ]
  },
  {
   "cell_type": "code",
   "execution_count": 7,
   "metadata": {},
   "outputs": [],
   "source": [
    "#### Convert netcdf data to numpy array ####\n",
    "ds = netCDF4.Dataset(flight16_dir)\n",
    "imgs = ds.variables['Ts'][:]\n",
    "timestamps = ds.variables['time'][:]\n",
    "\n",
    "# images to predict from flight 16\n",
    "imgs_flight16 = [imgs[63],imgs[310],imgs[390],imgs[599],imgs[728],imgs[917],imgs[1007]]"
   ]
  },
  {
   "cell_type": "code",
   "execution_count": null,
   "metadata": {},
   "outputs": [],
   "source": [
    "tmp = []\n",
    "\n",
    "for im in imgs_flight16:\n",
    "    im = crop_center_square(im)\n",
    "    tmp.append(im)\n",
    "\n",
    "imgs_flight16 = tmp\n",
    "\n",
    "for idx, img in enumerate(imgs_flight16):\n",
    "    plt.imsave('E:/polar/code/data/evaluation/qualitative/flight16/{}.png'.format(idx), img, cmap='gray')"
   ]
  }
 ],
 "metadata": {
  "kernelspec": {
   "display_name": "sea_ice",
   "language": "python",
   "name": "python3"
  },
  "language_info": {
   "codemirror_mode": {
    "name": "ipython",
    "version": 3
   },
   "file_extension": ".py",
   "mimetype": "text/x-python",
   "name": "python",
   "nbconvert_exporter": "python",
   "pygments_lexer": "ipython3",
   "version": "3.10.0"
  },
  "orig_nbformat": 4
 },
 "nbformat": 4,
 "nbformat_minor": 2
}
