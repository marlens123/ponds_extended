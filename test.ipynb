{
 "cells": [
  {
   "cell_type": "code",
   "execution_count": 2,
   "metadata": {},
   "outputs": [],
   "source": [
    "import cv2\n",
    "import numpy as np\n",
    "from utils.image_transform import transform_color\n",
    "from utils.kmeans import kmeans_image"
   ]
  },
  {
   "cell_type": "code",
   "execution_count": 9,
   "metadata": {},
   "outputs": [
    {
     "name": "stdout",
     "output_type": "stream",
     "text": [
      "(2345, 2345)\n",
      "[  0  76 255]\n"
     ]
    },
    {
     "data": {
      "text/plain": [
       "\"\\nim[im==156] = 155\\nim[im==238] = 155\\nim[im==248] = 254\\nim[im==155] = 76\\nim[im==254] = 255\\nim[im==20] = 0\\n\\nprint(np.unique(im))\\ncv2.imwrite('E:/polar/code/data/ir/entire/original_size/msks/8.png', im)\\n\""
      ]
     },
     "execution_count": 9,
     "metadata": {},
     "output_type": "execute_result"
    }
   ],
   "source": [
    "#im = cv2.imread('E:/polar/code/ponds_extended_data/4.png', 0)\n",
    "print(im.shape)\n",
    "\n",
    "im = cv2.imread('E:/polar/code/data/ir/entire/original_size/msks/9.png', 0)\n",
    "\n",
    "#im = kmeans_image(im, save_path='E:/test/6.png', mode='gray')\n",
    "\n",
    "#im = transform_color(im)\n",
    "\n",
    "im[im==254] = 255\n",
    "im[im==155] = 76\n",
    "\n",
    "print(np.unique(im))\n",
    "\n",
    "cv2.imwrite('E:/polar/code/data/ir/entire/original_size/msks/9.png', im)\n",
    "\n",
    "\"\"\"\n",
    "im[im==156] = 155\n",
    "im[im==238] = 155\n",
    "im[im==248] = 254\n",
    "im[im==155] = 76\n",
    "im[im==254] = 255\n",
    "im[im==20] = 0\n",
    "\n",
    "print(np.unique(im))\n",
    "cv2.imwrite('E:/polar/code/data/ir/entire/original_size/msks/8.png', im)\n",
    "\"\"\""
   ]
  }
 ],
 "metadata": {
  "kernelspec": {
   "display_name": "sea_ice",
   "language": "python",
   "name": "python3"
  },
  "language_info": {
   "codemirror_mode": {
    "name": "ipython",
    "version": 3
   },
   "file_extension": ".py",
   "mimetype": "text/x-python",
   "name": "python",
   "nbconvert_exporter": "python",
   "pygments_lexer": "ipython3",
   "version": "3.10.0"
  },
  "orig_nbformat": 4
 },
 "nbformat": 4,
 "nbformat_minor": 2
}
