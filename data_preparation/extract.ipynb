{
 "cells": [
  {
   "cell_type": "code",
   "execution_count": 1,
   "metadata": {},
   "outputs": [],
   "source": [
    "import numpy as np\n",
    "import netCDF4\n",
    "import matplotlib.pyplot as plt\n",
    "import os\n",
    "import pandas as pd\n",
    "from datetime import timedelta\n",
    "from skimage.transform import resize\n",
    "from scipy.interpolate import interp2d"
   ]
  },
  {
   "cell_type": "markdown",
   "metadata": {},
   "source": [
    "# Data Extraction\n",
    "Used for inspection, training image selection, and annotation.\n",
    "To make this notebook work, replace the absolute paths to the .nc files with your corresponding path and specify the path, where images should be saved in the 'extract_path' and 'extract_all' function.\n",
    "\n",
    "Depending on the flight that you want to inspect, run either the next code section or the section thereafter.\n",
    "\n",
    "- nc_flight9 = 'unet_melt_pond_detection/nc_data/flight9/IRdata_ATWAICE_processed_220718_142920.nc'\n",
    "- nc_flight16 = 'unet_melt_pond_detection/nc_data/flight16/IRdata_ATWAICE_processed_220730_111439.nc'"
   ]
  },
  {
   "cell_type": "code",
   "execution_count": null,
   "metadata": {},
   "outputs": [],
   "source": [
    "# either 9 or 16\n",
    "flight = 9\n",
    "\n",
    "# insert folder where to save images, e.g. 'E:/polar/flight9/'\n",
    "save_path = None"
   ]
  },
  {
   "cell_type": "code",
   "execution_count": 2,
   "metadata": {},
   "outputs": [],
   "source": [
    "# load data\n",
    "if flight == 9:\n",
    "    nc_flight9 = 'E:/polar/code/data/flight9/IRdata_ATWAICE_processed_220718_142920.nc'\n",
    "    ds = netCDF4.Dataset(nc_flight9)\n",
    "\n",
    "elif flight == 16:\n",
    "    nc_flight16 = 'E:/polar/code/data/flight16/IRdata_ATWAICE_processed_220730_111439.nc'\n",
    "    ds = netCDF4.Dataset(nc_flight16)"
   ]
  },
  {
   "cell_type": "code",
   "execution_count": 3,
   "metadata": {},
   "outputs": [
    {
     "name": "stdout",
     "output_type": "stream",
     "text": [
      "(4989, 480, 640)\n",
      "<class 'numpy.ma.core.MaskedArray'>\n"
     ]
    }
   ],
   "source": [
    "ds_size = len(ds.dimensions['t'])\n",
    "\n",
    "imgs = ds.variables['Ts'][:]\n",
    "\n",
    "print(imgs.shape)\n",
    "print(type(imgs))\n",
    "\n",
    "xd = ds.variables['xd'][:]\n",
    "yd = ds.variables['yd'][:]\n",
    "\n",
    "timestamps = ds.variables['time'][:]"
   ]
  },
  {
   "cell_type": "code",
   "execution_count": 6,
   "metadata": {},
   "outputs": [],
   "source": [
    "def extract_time(img_idx, timestamps, flight_nr):\n",
    "    \"\"\"\n",
    "    Convert the timestamp for an image.\n",
    "\n",
    "    Parameters:\n",
    "    ----------\n",
    "        img_idx : int\n",
    "        timestamps : numpy.ma.core.MaskedArray\n",
    "    \"\"\"\n",
    "    \n",
    "    if flight_nr == 9:\n",
    "        reference = '2022-07-18 00:00:00'\n",
    "    elif flight_nr == 16:\n",
    "        reference = '2022-07-30 00:00:00'\n",
    "\n",
    "    times = pd.Series(timestamps)\n",
    "    date = pd.Timestamp(reference)\n",
    "    time = str(date + timedelta(seconds=int(times[img_idx])))\n",
    "\n",
    "    return time"
   ]
  },
  {
   "cell_type": "code",
   "execution_count": null,
   "metadata": {},
   "outputs": [],
   "source": [
    "def extract_part(dataset, dataset_size, time, flight_nr, save_path):\n",
    "    \"\"\"\n",
    "    Extracts only every fourth image - extracted images will be non-overlapping, saves memory.\n",
    "\n",
    "    Parameters:\n",
    "    -----------\n",
    "        dataset : numpy.ma.core.MaskedArray\n",
    "        dataset_size : int\n",
    "        time : numpy.ma.core.MaskedArray\n",
    "    \"\"\"\n",
    "    idx = 0\n",
    "    \n",
    "    for i in range(dataset_size):\n",
    "        if(i % 4 == 0):\n",
    "            timestamp = extract_time(i, time, flight_nr).replace(' ','_').replace(':','').replace('-','')\n",
    "            img = dataset[i]\n",
    "\n",
    "            # clip for better visibility\n",
    "            img = np.clip(img, 273, 276)\n",
    "\n",
    "            plt.imsave(os.path.join(save_path, '{}_{}.png'.format(timestamp,idx)), img, cmap='cividis')\n",
    "\n",
    "            idx = idx + 1"
   ]
  },
  {
   "cell_type": "code",
   "execution_count": null,
   "metadata": {},
   "outputs": [],
   "source": [
    "def extract_all(dataset, dataset_size, time, flight_nr, save_path):\n",
    "    \"\"\"\n",
    "    Extracts all images for flight specified.\n",
    "\n",
    "    Parameters:\n",
    "    -----------\n",
    "        dataset : numpy.ma.core.MaskedArray\n",
    "        dataset_size : int\n",
    "        time : numpy.ma.core.MaskedArray\n",
    "    \"\"\"\n",
    "    idx = 0\n",
    "    \n",
    "    for i in range(dataset_size):\n",
    "        timestamp = extract_time(i, time, flight_nr).replace(' ','_').replace(':','').replace('-','')\n",
    "        img = dataset[i]\n",
    "\n",
    "        # clip for better visibility\n",
    "        img = np.clip(img, 273, 276)\n",
    "\n",
    "        plt.imsave(os.path.join(save_path, '{}_{}.png'.format(timestamp,idx)), img, cmap='cividis')\n",
    "\n",
    "        idx = idx + 1"
   ]
  },
  {
   "cell_type": "code",
   "execution_count": null,
   "metadata": {},
   "outputs": [],
   "source": [
    "extract_part(imgs, ds_size, timestamps, flight, save_path)"
   ]
  },
  {
   "cell_type": "code",
   "execution_count": null,
   "metadata": {},
   "outputs": [],
   "source": [
    "extract_all(imgs, ds_size, timestamps, flight, save_path)"
   ]
  }
 ],
 "metadata": {
  "kernelspec": {
   "display_name": "sea_ice",
   "language": "python",
   "name": "python3"
  },
  "language_info": {
   "codemirror_mode": {
    "name": "ipython",
    "version": 3
   },
   "file_extension": ".py",
   "mimetype": "text/x-python",
   "name": "python",
   "nbconvert_exporter": "python",
   "pygments_lexer": "ipython3",
   "version": "3.10.0"
  },
  "orig_nbformat": 4
 },
 "nbformat": 4,
 "nbformat_minor": 2
}
