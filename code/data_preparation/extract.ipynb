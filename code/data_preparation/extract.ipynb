{
 "cells": [
  {
   "cell_type": "code",
   "execution_count": 6,
   "metadata": {},
   "outputs": [
    {
     "ename": "ModuleNotFoundError",
     "evalue": "No module named 'utils'",
     "output_type": "error",
     "traceback": [
      "\u001b[1;31m---------------------------------------------------------------------------\u001b[0m",
      "\u001b[1;31mModuleNotFoundError\u001b[0m                       Traceback (most recent call last)",
      "\u001b[1;32me:\\polar\\code\\ponds_extended\\code\\data_preparation\\extract.ipynb Cell 1\u001b[0m line \u001b[0;36m9\n\u001b[0;32m      <a href='vscode-notebook-cell:/e%3A/polar/code/ponds_extended/code/data_preparation/extract.ipynb#W0sZmlsZQ%3D%3D?line=6'>7</a>\u001b[0m \u001b[39mfrom\u001b[39;00m \u001b[39mskimage\u001b[39;00m\u001b[39m.\u001b[39;00m\u001b[39mtransform\u001b[39;00m \u001b[39mimport\u001b[39;00m resize\n\u001b[0;32m      <a href='vscode-notebook-cell:/e%3A/polar/code/ponds_extended/code/data_preparation/extract.ipynb#W0sZmlsZQ%3D%3D?line=7'>8</a>\u001b[0m \u001b[39mfrom\u001b[39;00m \u001b[39mscipy\u001b[39;00m\u001b[39m.\u001b[39;00m\u001b[39minterpolate\u001b[39;00m \u001b[39mimport\u001b[39;00m interp2d\n\u001b[1;32m----> <a href='vscode-notebook-cell:/e%3A/polar/code/ponds_extended/code/data_preparation/extract.ipynb#W0sZmlsZQ%3D%3D?line=8'>9</a>\u001b[0m \u001b[39mfrom\u001b[39;00m \u001b[39mutils\u001b[39;00m\u001b[39m.\u001b[39;00m\u001b[39mimage_transform\u001b[39;00m \u001b[39mimport\u001b[39;00m crop_center_square, transform_color, resize_image\n",
      "\u001b[1;31mModuleNotFoundError\u001b[0m: No module named 'utils'"
     ]
    }
   ],
   "source": [
    "import numpy as np\n",
    "import netCDF4\n",
    "import matplotlib.pyplot as plt\n",
    "import os\n",
    "import pandas as pd\n",
    "from datetime import timedelta\n",
    "from skimage.transform import resize\n",
    "from scipy.interpolate import interp2d\n",
    "from utils.image_transform import crop_center_square, transform_color, resize_image"
   ]
  },
  {
   "cell_type": "markdown",
   "metadata": {},
   "source": [
    "# Data Extraction\n",
    "Used for inspection, training image selection, and annotation.\n",
    "To make this notebook work, replace the absolute paths to the .nc files with your corresponding path and specify the path, where images should be saved in the 'extract_path' and 'extract_all' function.\n",
    "\n",
    "Depending on the flight that you want to inspect, run either the next code section or the section thereafter.\n",
    "\n",
    "- nc_flight9 = 'unet_melt_pond_detection/nc_data/flight9/IRdata_ATWAICE_processed_220718_142920.nc'\n",
    "- nc_flight16 = 'unet_melt_pond_detection/nc_data/flight16/IRdata_ATWAICE_processed_220730_111439.nc'"
   ]
  },
  {
   "cell_type": "code",
   "execution_count": 5,
   "metadata": {},
   "outputs": [],
   "source": [
    "# either 9 or 16\n",
    "flight = 16\n",
    "\n",
    "# insert folder where to save images, e.g. 'E:/polar/flight9/'\n",
    "save_path = None"
   ]
  },
  {
   "cell_type": "code",
   "execution_count": 6,
   "metadata": {},
   "outputs": [],
   "source": [
    "# load data\n",
    "if flight == 9:\n",
    "    nc_flight9 = 'E:/polar/code/data/flight9/IRdata_ATWAICE_processed_220718_142920.nc'\n",
    "    ds = netCDF4.Dataset(nc_flight9)\n",
    "\n",
    "elif flight == 16:\n",
    "    nc_flight16 = 'E:/polar/code/data/flight16/IRdata_ATWAICE_processed_220730_111439.nc'\n",
    "    ds = netCDF4.Dataset(nc_flight16)"
   ]
  },
  {
   "cell_type": "code",
   "execution_count": 7,
   "metadata": {},
   "outputs": [
    {
     "ename": "MemoryError",
     "evalue": "Unable to allocate 5.27 GiB for an array with shape (4608, 480, 640) and data type float32",
     "output_type": "error",
     "traceback": [
      "\u001b[1;31m---------------------------------------------------------------------------\u001b[0m",
      "\u001b[1;31mMemoryError\u001b[0m                               Traceback (most recent call last)",
      "\u001b[1;32me:\\polar\\code\\ponds_extended\\data_preparation\\extract.ipynb Cell 5\u001b[0m line \u001b[0;36m3\n\u001b[0;32m      <a href='vscode-notebook-cell:/e%3A/polar/code/ponds_extended/data_preparation/extract.ipynb#W4sZmlsZQ%3D%3D?line=0'>1</a>\u001b[0m ds_size \u001b[39m=\u001b[39m \u001b[39mlen\u001b[39m(ds\u001b[39m.\u001b[39mdimensions[\u001b[39m'\u001b[39m\u001b[39mt\u001b[39m\u001b[39m'\u001b[39m])\n\u001b[1;32m----> <a href='vscode-notebook-cell:/e%3A/polar/code/ponds_extended/data_preparation/extract.ipynb#W4sZmlsZQ%3D%3D?line=2'>3</a>\u001b[0m imgs \u001b[39m=\u001b[39m ds\u001b[39m.\u001b[39;49mvariables[\u001b[39m'\u001b[39;49m\u001b[39mTs\u001b[39;49m\u001b[39m'\u001b[39;49m][:]\n\u001b[0;32m      <a href='vscode-notebook-cell:/e%3A/polar/code/ponds_extended/data_preparation/extract.ipynb#W4sZmlsZQ%3D%3D?line=4'>5</a>\u001b[0m \u001b[39mprint\u001b[39m(imgs\u001b[39m.\u001b[39mshape)\n\u001b[0;32m      <a href='vscode-notebook-cell:/e%3A/polar/code/ponds_extended/data_preparation/extract.ipynb#W4sZmlsZQ%3D%3D?line=5'>6</a>\u001b[0m \u001b[39mprint\u001b[39m(\u001b[39mtype\u001b[39m(imgs))\n",
      "File \u001b[1;32msrc\\netCDF4\\_netCDF4.pyx:4958\u001b[0m, in \u001b[0;36mnetCDF4._netCDF4.Variable.__getitem__\u001b[1;34m()\u001b[0m\n",
      "File \u001b[1;32msrc\\netCDF4\\_netCDF4.pyx:5898\u001b[0m, in \u001b[0;36mnetCDF4._netCDF4.Variable._get\u001b[1;34m()\u001b[0m\n",
      "\u001b[1;31mMemoryError\u001b[0m: Unable to allocate 5.27 GiB for an array with shape (4608, 480, 640) and data type float32"
     ]
    }
   ],
   "source": [
    "ds_size = len(ds.dimensions['t'])\n",
    "\n",
    "imgs = ds.variables['Ts'][:]\n",
    "\n",
    "print(imgs.shape)\n",
    "print(type(imgs))\n",
    "\n",
    "xd = ds.variables['xd'][:]\n",
    "yd = ds.variables['yd'][:]\n",
    "\n",
    "timestamps = ds.variables['time'][:]"
   ]
  },
  {
   "cell_type": "code",
   "execution_count": 6,
   "metadata": {},
   "outputs": [],
   "source": [
    "def extract_time(img_idx, timestamps, flight_nr):\n",
    "    \"\"\"\n",
    "    Convert the timestamp for an image.\n",
    "\n",
    "    Parameters:\n",
    "    ----------\n",
    "        img_idx : int\n",
    "        timestamps : numpy.ma.core.MaskedArray\n",
    "    \"\"\"\n",
    "    \n",
    "    if flight_nr == 9:\n",
    "        reference = '2022-07-18 00:00:00'\n",
    "    elif flight_nr == 16:\n",
    "        reference = '2022-07-30 00:00:00'\n",
    "\n",
    "    times = pd.Series(timestamps)\n",
    "    date = pd.Timestamp(reference)\n",
    "    time = str(date + timedelta(seconds=int(times[img_idx])))\n",
    "\n",
    "    return time"
   ]
  },
  {
   "cell_type": "code",
   "execution_count": null,
   "metadata": {},
   "outputs": [],
   "source": [
    "def extract_single(dataset, idx, time, flight_nr, save_path):\n",
    "    # extracts image in squared shape\n",
    "\n",
    "    timestamp = extract_time(idx, time, flight_nr).replace(' ','_').replace(':','').replace('-','')\n",
    "    img = dataset[idx]\n",
    "    img = crop_center_square(img)\n",
    "\n",
    "    # clip for better visibility, use 272,274 for flight 16\n",
    "    img = np.clip(img, 273, 276)\n",
    "\n",
    "    plt.imsave(os.path.join(save_path, '{}_{}.png'.format(timestamp,idx)), img, cmap='cividis')"
   ]
  },
  {
   "cell_type": "code",
   "execution_count": null,
   "metadata": {},
   "outputs": [],
   "source": [
    "def extract_part(dataset, dataset_size, time, flight_nr, save_path):\n",
    "    \"\"\"\n",
    "    Extracts only every fourth image - extracted images will be non-overlapping, saves memory.\n",
    "\n",
    "    Parameters:\n",
    "    -----------\n",
    "        dataset : numpy.ma.core.MaskedArray\n",
    "        dataset_size : int\n",
    "        time : numpy.ma.core.MaskedArray\n",
    "    \"\"\"\n",
    "    idx = 0\n",
    "    \n",
    "    for i in range(dataset_size):\n",
    "        if(i % 4 == 0):\n",
    "            timestamp = extract_time(i, time, flight_nr).replace(' ','_').replace(':','').replace('-','')\n",
    "            img = dataset[i]\n",
    "\n",
    "            # clip for better visibility\n",
    "            img = np.clip(img, 273, 276)\n",
    "\n",
    "            plt.imsave(os.path.join(save_path, '{}_{}.png'.format(timestamp,idx)), img, cmap='cividis')\n",
    "\n",
    "            idx = idx + 1"
   ]
  },
  {
   "cell_type": "code",
   "execution_count": null,
   "metadata": {},
   "outputs": [],
   "source": [
    "def extract_all(dataset, dataset_size, time, flight_nr, save_path):\n",
    "    \"\"\"\n",
    "    Extracts all images for flight specified.\n",
    "\n",
    "    Parameters:\n",
    "    -----------\n",
    "        dataset : numpy.ma.core.MaskedArray\n",
    "        dataset_size : int\n",
    "        time : numpy.ma.core.MaskedArray\n",
    "    \"\"\"\n",
    "    idx = 0\n",
    "    \n",
    "    for i in range(dataset_size):\n",
    "        timestamp = extract_time(i, time, flight_nr).replace(' ','_').replace(':','').replace('-','')\n",
    "        img = dataset[i]\n",
    "\n",
    "        # clip for better visibility\n",
    "        img = np.clip(img, 273, 276)\n",
    "\n",
    "        plt.imsave(os.path.join(save_path, '{}_{}.png'.format(timestamp,idx)), img, cmap='cividis')\n",
    "\n",
    "        idx = idx + 1"
   ]
  },
  {
   "cell_type": "code",
   "execution_count": null,
   "metadata": {},
   "outputs": [],
   "source": [
    "extract_part(imgs, ds_size, timestamps, flight, save_path)"
   ]
  },
  {
   "cell_type": "code",
   "execution_count": null,
   "metadata": {},
   "outputs": [],
   "source": [
    "extract_all(imgs, ds_size, timestamps, flight, save_path)"
   ]
  }
 ],
 "metadata": {
  "kernelspec": {
   "display_name": "sea_ice",
   "language": "python",
   "name": "python3"
  },
  "language_info": {
   "codemirror_mode": {
    "name": "ipython",
    "version": 3
   },
   "file_extension": ".py",
   "mimetype": "text/x-python",
   "name": "python",
   "nbconvert_exporter": "python",
   "pygments_lexer": "ipython3",
   "version": "3.10.0"
  },
  "orig_nbformat": 4
 },
 "nbformat": 4,
 "nbformat_minor": 2
}
