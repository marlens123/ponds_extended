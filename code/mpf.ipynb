{
 "cells": [
  {
   "cell_type": "code",
   "execution_count": 1,
   "metadata": {},
   "outputs": [
    {
     "name": "stdout",
     "output_type": "stream",
     "text": [
      "Segmentation Models: using `keras` framework.\n"
     ]
    }
   ],
   "source": [
    "import cv2\n",
    "import os\n",
    "import numpy as np\n",
    "import string\n",
    "import random\n",
    "import shutil\n",
    "\n",
    "from predict_image import predict"
   ]
  },
  {
   "cell_type": "markdown",
   "metadata": {},
   "source": [
    "# MPF Computation\n",
    "This notebook contains the melt pond fraction computations. It consists of two parts:\n",
    "- 1) MPF classified images: Here, we select 50 random VIS images, classify them with the OSSP algorithm and compare the MPF to corresponding TIR images, which are classified by our final model.\n",
    "- 2) MPF training data: Here, we compare the MPF from classified VIS to corresponding annotated TIR.\n",
    "\n",
    "You need the following data:\n",
    "- vis_dir = 'unet_melt_pond_detection/mpf_data/vis'\n",
    "- ir_class_dir = 'unet_melt_pond_detection/mpf_data/ir_classified'\n",
    "- ir_dir = 'unet_melt_pond_detection/mpf_data/ir'\n",
    "- ir_dir_processed = 'unet_melt_pond_detection/mpf_data/ir_processed'\n",
    "- vis_crop_dir = 'unet_melt_pond_detection/mpf_data/vis_train_cropped'\n",
    "- vis_class_dir = 'unet_melt_pond_detection/mpf_data/vis/classified'\n",
    "- vis_crop_dir = 'unet_melt_pond_detection/mpf_data/vis_train_cropped/classified'"
   ]
  },
  {
   "cell_type": "markdown",
   "metadata": {},
   "source": [
    "### 1) MPF classified images\n",
    "Calculate MPF for 50 randomly selected classified VIS and corresponding TIR to estimate the performance of our model."
   ]
  },
  {
   "cell_type": "markdown",
   "metadata": {},
   "source": [
    "##### Preparation: select random VIS images and corresponding TIR images (this can not be reproduced because not all VIS images are provided in this work)"
   ]
  },
  {
   "cell_type": "code",
   "execution_count": 2,
   "metadata": {},
   "outputs": [],
   "source": [
    "def select_random_files(folder_path, num_files=10, destination_folder=''):\n",
    "    all_files = os.listdir(folder_path)\n",
    "    random_files = random.sample(all_files, min(num_files, len(all_files)))\n",
    "    \n",
    "    if not os.path.exists(destination_folder):\n",
    "        os.makedirs(destination_folder)\n",
    "    \n",
    "    for file_name in random_files:\n",
    "        source_file = os.path.join(folder_path, file_name)\n",
    "        destination_file = os.path.join(destination_folder, file_name)\n",
    "        shutil.copy2(source_file, destination_file)\n",
    "    \n",
    "    return random_files"
   ]
  },
  {
   "cell_type": "code",
   "execution_count": 3,
   "metadata": {},
   "outputs": [],
   "source": [
    "imgs = select_random_files('E:/polar/code/data/vis/entire_raw/', num_files=50, destination_folder='E:/polar/code/data/evaluation/mpf/vis')"
   ]
  },
  {
   "cell_type": "code",
   "execution_count": 4,
   "metadata": {},
   "outputs": [],
   "source": [
    "vis_dir = 'E:/polar/code/data/evaluation/mpf/vis'\n",
    "\n",
    "timestamps = []\n",
    "\n",
    "for f in os.listdir(vis_dir):\n",
    "    name = f\n",
    "    first_underscore_index = f.index('_')\n",
    "    second_underscore_index = f.index('_', first_underscore_index + 1)\n",
    "    stamp = f[first_underscore_index + 1:second_underscore_index]\n",
    "    \n",
    "    timestamps.append(stamp)"
   ]
  },
  {
   "cell_type": "code",
   "execution_count": null,
   "metadata": {},
   "outputs": [],
   "source": [
    "def extract_number_from_string(string):\n",
    "    last_underscore_index = string.rfind('_')\n",
    "    number = string[last_underscore_index + 1:]\n",
    "    return number"
   ]
  },
  {
   "cell_type": "code",
   "execution_count": 6,
   "metadata": {},
   "outputs": [
    {
     "name": "stdout",
     "output_type": "stream",
     "text": [
      "['143510', '143718', '143734', '143902', '144238', '144446', '144454', '144550', '144702', '145030', '145038', '145110', '145150', '145310', '145350', '145542', '145630', '145950', '150030', '150038', '150126', '150150', '150454', '150726', '150926', '151342', '151622', '152150', '152750', '153038', '153230', '153406', '153414', '153502', '153814', '154142', '154158', '154406', '154814', '154830', '154854', '155014', '155022', '155246', '155342', '155414', '155534', '155622', '155646', '155726']\n"
     ]
    }
   ],
   "source": [
    "print(timestamps)"
   ]
  },
  {
   "cell_type": "code",
   "execution_count": null,
   "metadata": {},
   "outputs": [],
   "source": [
    "def check_files(folder_path, string, destination_folder):\n",
    "    files_with_number = []\n",
    "    \n",
    "    for file_name in os.listdir(folder_path):\n",
    "        if string in file_name:\n",
    "            source_file = os.path.join(folder_path, file_name)\n",
    "            destination_file = os.path.join(destination_folder, file_name)\n",
    "            shutil.copy2(source_file, destination_file)"
   ]
  },
  {
   "cell_type": "code",
   "execution_count": null,
   "metadata": {},
   "outputs": [],
   "source": [
    "for t in timestamps:\n",
    "    check_files('E:/polar/Flight9/ir_all/', t, 'E:/polar/code/data/evaluation/mpf/ir')"
   ]
  },
  {
   "attachments": {},
   "cell_type": "markdown",
   "metadata": {},
   "source": [
    "### Classify VIS images using the OSSP algorithm\n",
    "terminal command: (ossp) PS E:\\polar\\code\\ponds\\ponds\\vis_segmentation\\OSSP-wright> python ossp_process.py 'E:/polar/code/data/evaluation/mpf/vis/' 'srgb' 'E:/polar/code/ponds/ponds/vis_segmentation/OSSP-wright/training_datasets/icebridge_v5_training_data.h5' -v\n",
    "\n",
    "- replace the path where OSSP-wright folder is located and where vis images are located ('unet_melt_pond_detection/mpf_data/vis')"
   ]
  },
  {
   "cell_type": "markdown",
   "metadata": {},
   "source": [
    "### Calculate MPF in VIS"
   ]
  },
  {
   "cell_type": "code",
   "execution_count": 3,
   "metadata": {},
   "outputs": [],
   "source": [
    "import os\n",
    "import cv2\n",
    "import numpy as np\n",
    "# calculation of MPF\n",
    "\n",
    "vis_class_dir = 'E:/polar/code/data/evaluation/mpf/vis/classified/'\n",
    "num_imgs = 0\n",
    "mpf_coll = 0\n",
    "\n",
    "for f in os.listdir(vis_class_dir):\n",
    "    if f.endswith('.tif'):\n",
    "        num_imgs += 1\n",
    "        im = cv2.imread(os.path.join(vis_class_dir, f),0)\n",
    "        # use the class values specified by OSSP\n",
    "        white_ice = np.sum(im==1)\n",
    "        gray_ice = np.sum(im==2)\n",
    "        pond = np.sum(im==3)\n",
    "        mpf = pond / ( white_ice + gray_ice + pond )\n",
    "        mpf_coll += mpf\n",
    "\n",
    "mpf_vis = mpf_coll / num_imgs"
   ]
  },
  {
   "cell_type": "code",
   "execution_count": 4,
   "metadata": {},
   "outputs": [
    {
     "name": "stdout",
     "output_type": "stream",
     "text": [
      "0.1754387513312522\n"
     ]
    }
   ],
   "source": [
    "print(mpf_vis)"
   ]
  },
  {
   "cell_type": "markdown",
   "metadata": {},
   "source": [
    "### Classify TIR images with our final model"
   ]
  },
  {
   "cell_type": "code",
   "execution_count": 6,
   "metadata": {},
   "outputs": [],
   "source": [
    "import os\n",
    "import cv2\n",
    "import numpy as np\n",
    "# calculation of MPF\n",
    "\n",
    "ir_class_dir = 'E:/polar/code/data/evaluation/mpf/ir_classified/'\n",
    "ir_dir = 'E:/polar/code/data/evaluation/mpf/ir/'\n",
    "ir_dir_processed = 'E:/polar/code/data/evaluation/mpf/ir_processed/'\n",
    "\n",
    "weights500 ='./model_weights/best_modelfinal_runsharpen500.h5'"
   ]
  },
  {
   "cell_type": "code",
   "execution_count": 6,
   "metadata": {},
   "outputs": [
    {
     "name": "stdout",
     "output_type": "stream",
     "text": [
      "16\n",
      "144\n",
      "160\n",
      "248\n",
      "464\n",
      "592\n",
      "600\n",
      "656\n",
      "728\n",
      "936\n",
      "944\n",
      "976\n",
      "1016\n",
      "1096\n",
      "1136\n",
      "1248\n",
      "1296\n",
      "1496\n",
      "1536\n",
      "1544\n",
      "1592\n",
      "1616\n",
      "1800\n",
      "1952\n",
      "2072\n",
      "2328\n",
      "2488\n",
      "2816\n",
      "3176\n",
      "3344\n",
      "3456\n",
      "3552\n",
      "3560\n",
      "3608\n",
      "3800\n",
      "4008\n",
      "4024\n",
      "4152\n",
      "4400\n",
      "4416\n",
      "4440\n",
      "4520\n",
      "4528\n",
      "4672\n",
      "4728\n",
      "4760\n",
      "4840\n",
      "4888\n",
      "4912\n",
      "4952\n"
     ]
    }
   ],
   "source": [
    "for f in os.listdir(ir_dir_processed):\n",
    "    name = f\n",
    "    last_underscore_index = f.rfind('_')\n",
    "    last_period_index = f.rfind('.')\n",
    "    image_number = f[last_underscore_index + 1:last_period_index]"
   ]
  },
  {
   "cell_type": "code",
   "execution_count": 4,
   "metadata": {},
   "outputs": [
    {
     "name": "stdout",
     "output_type": "stream",
     "text": [
      "1/1 [==============================] - 2s 2s/step\n",
      "Finished processing patch number  1  at position  0 0\n",
      "1/1 [==============================] - 2s 2s/step\n",
      "Finished processing patch number  1  at position  0 0\n",
      "1/1 [==============================] - 2s 2s/step\n",
      "Finished processing patch number  1  at position  0 0\n",
      "1/1 [==============================] - 2s 2s/step\n",
      "Finished processing patch number  1  at position  0 0\n",
      "WARNING:tensorflow:5 out of the last 5 calls to <function Model.make_predict_function.<locals>.predict_function at 0x000001AAC93FE680> triggered tf.function retracing. Tracing is expensive and the excessive number of tracings could be due to (1) creating @tf.function repeatedly in a loop, (2) passing tensors with different shapes, (3) passing Python objects instead of tensors. For (1), please define your @tf.function outside of the loop. For (2), @tf.function has reduce_retracing=True option that can avoid unnecessary retracing. For (3), please refer to https://www.tensorflow.org/guide/function#controlling_retracing and https://www.tensorflow.org/api_docs/python/tf/function for  more details.\n",
      "1/1 [==============================] - 2s 2s/step\n",
      "Finished processing patch number  1  at position  0 0\n",
      "WARNING:tensorflow:6 out of the last 6 calls to <function Model.make_predict_function.<locals>.predict_function at 0x000001AAC93FCCA0> triggered tf.function retracing. Tracing is expensive and the excessive number of tracings could be due to (1) creating @tf.function repeatedly in a loop, (2) passing tensors with different shapes, (3) passing Python objects instead of tensors. For (1), please define your @tf.function outside of the loop. For (2), @tf.function has reduce_retracing=True option that can avoid unnecessary retracing. For (3), please refer to https://www.tensorflow.org/guide/function#controlling_retracing and https://www.tensorflow.org/api_docs/python/tf/function for  more details.\n",
      "1/1 [==============================] - 2s 2s/step\n",
      "Finished processing patch number  1  at position  0 0\n",
      "1/1 [==============================] - 2s 2s/step\n",
      "Finished processing patch number  1  at position  0 0\n",
      "1/1 [==============================] - 2s 2s/step\n",
      "Finished processing patch number  1  at position  0 0\n",
      "1/1 [==============================] - 3s 3s/step\n",
      "Finished processing patch number  1  at position  0 0\n",
      "1/1 [==============================] - 2s 2s/step\n",
      "Finished processing patch number  1  at position  0 0\n",
      "1/1 [==============================] - 2s 2s/step\n",
      "Finished processing patch number  1  at position  0 0\n",
      "1/1 [==============================] - 2s 2s/step\n",
      "Finished processing patch number  1  at position  0 0\n",
      "1/1 [==============================] - 5s 5s/step\n",
      "Finished processing patch number  1  at position  0 0\n",
      "1/1 [==============================] - 3s 3s/step\n",
      "Finished processing patch number  1  at position  0 0\n",
      "1/1 [==============================] - 3s 3s/step\n",
      "Finished processing patch number  1  at position  0 0\n",
      "1/1 [==============================] - 3s 3s/step\n",
      "Finished processing patch number  1  at position  0 0\n",
      "1/1 [==============================] - 2s 2s/step\n",
      "Finished processing patch number  1  at position  0 0\n",
      "1/1 [==============================] - 2s 2s/step\n",
      "Finished processing patch number  1  at position  0 0\n",
      "1/1 [==============================] - 2s 2s/step\n",
      "Finished processing patch number  1  at position  0 0\n",
      "1/1 [==============================] - 2s 2s/step\n",
      "Finished processing patch number  1  at position  0 0\n",
      "1/1 [==============================] - 2s 2s/step\n",
      "Finished processing patch number  1  at position  0 0\n",
      "1/1 [==============================] - 2s 2s/step\n",
      "Finished processing patch number  1  at position  0 0\n",
      "1/1 [==============================] - 2s 2s/step\n",
      "Finished processing patch number  1  at position  0 0\n",
      "1/1 [==============================] - 2s 2s/step\n",
      "Finished processing patch number  1  at position  0 0\n",
      "1/1 [==============================] - 3s 3s/step\n",
      "Finished processing patch number  1  at position  0 0\n",
      "1/1 [==============================] - 2s 2s/step\n",
      "Finished processing patch number  1  at position  0 0\n",
      "1/1 [==============================] - 4s 4s/step\n",
      "Finished processing patch number  1  at position  0 0\n",
      "1/1 [==============================] - 4s 4s/step\n",
      "Finished processing patch number  1  at position  0 0\n",
      "1/1 [==============================] - 3s 3s/step\n",
      "Finished processing patch number  1  at position  0 0\n",
      "1/1 [==============================] - 3s 3s/step\n",
      "Finished processing patch number  1  at position  0 0\n",
      "1/1 [==============================] - 4s 4s/step\n",
      "Finished processing patch number  1  at position  0 0\n",
      "1/1 [==============================] - 3s 3s/step\n",
      "Finished processing patch number  1  at position  0 0\n",
      "1/1 [==============================] - 3s 3s/step\n",
      "Finished processing patch number  1  at position  0 0\n",
      "1/1 [==============================] - 2s 2s/step\n",
      "Finished processing patch number  1  at position  0 0\n",
      "1/1 [==============================] - 2s 2s/step\n",
      "Finished processing patch number  1  at position  0 0\n",
      "1/1 [==============================] - 2s 2s/step\n",
      "Finished processing patch number  1  at position  0 0\n",
      "1/1 [==============================] - 2s 2s/step\n",
      "Finished processing patch number  1  at position  0 0\n",
      "1/1 [==============================] - 2s 2s/step\n",
      "Finished processing patch number  1  at position  0 0\n",
      "1/1 [==============================] - 2s 2s/step\n",
      "Finished processing patch number  1  at position  0 0\n",
      "1/1 [==============================] - 2s 2s/step\n",
      "Finished processing patch number  1  at position  0 0\n",
      "1/1 [==============================] - 2s 2s/step\n",
      "Finished processing patch number  1  at position  0 0\n",
      "1/1 [==============================] - 2s 2s/step\n",
      "Finished processing patch number  1  at position  0 0\n",
      "1/1 [==============================] - 2s 2s/step\n",
      "Finished processing patch number  1  at position  0 0\n",
      "1/1 [==============================] - 2s 2s/step\n",
      "Finished processing patch number  1  at position  0 0\n",
      "1/1 [==============================] - 2s 2s/step\n",
      "Finished processing patch number  1  at position  0 0\n",
      "1/1 [==============================] - 2s 2s/step\n",
      "Finished processing patch number  1  at position  0 0\n",
      "1/1 [==============================] - 2s 2s/step\n",
      "Finished processing patch number  1  at position  0 0\n",
      "1/1 [==============================] - 2s 2s/step\n",
      "Finished processing patch number  1  at position  0 0\n",
      "1/1 [==============================] - 2s 2s/step\n",
      "Finished processing patch number  1  at position  0 0\n",
      "1/1 [==============================] - 2s 2s/step\n",
      "Finished processing patch number  1  at position  0 0\n"
     ]
    },
    {
     "data": {
      "image/png": "[encoded data removed]",
      "text/plain": [
       "<Figure size 640x480 with 1 Axes>"
      ]
     },
     "metadata": {},
     "output_type": "display_data"
    }
   ],
   "source": [
    "for idx, file in enumerate(os.listdir(ir_dir)):\n",
    "    img = cv2.imread(os.path.join(ir_dir, file), 0)\n",
    "    predict(img, 480, weights500, backbone='resnet34', train_transfer='imagenet', save_path=os.path.join(ir_class_dir,'{}.png'.format(idx)), visualize=False)"
   ]
  },
  {
   "cell_type": "markdown",
   "metadata": {},
   "source": [
    "### Calculate MPF for classified TIR"
   ]
  },
  {
   "cell_type": "code",
   "execution_count": 7,
   "metadata": {},
   "outputs": [],
   "source": [
    "num_imgs = 0\n",
    "mpf_coll = 0\n",
    "\n",
    "for f in os.listdir(ir_class_dir):\n",
    "    num_imgs += 1\n",
    "    im = cv2.imread(os.path.join(ir_class_dir, f),0)\n",
    "    pond = np.sum(im==0)\n",
    "    sea_ice = np.sum(im==1)\n",
    "    ocean = np.sum(im==2)\n",
    "    mpf = pond / ( sea_ice + pond )\n",
    "    mpf_coll += mpf\n",
    "\n",
    "mpf_tir = mpf_coll / num_imgs"
   ]
  },
  {
   "cell_type": "code",
   "execution_count": 8,
   "metadata": {},
   "outputs": [
    {
     "name": "stdout",
     "output_type": "stream",
     "text": [
      "0.14508732650004683\n"
     ]
    }
   ],
   "source": [
    "print(mpf_tir)"
   ]
  },
  {
   "cell_type": "markdown",
   "metadata": {},
   "source": [
    "### 2) MPF training data\n",
    "\n",
    "Calculate MPF from annotated TIR data and corresponding VIS to estimate sensor differences in detecting melt ponds."
   ]
  },
  {
   "cell_type": "code",
   "execution_count": 7,
   "metadata": {},
   "outputs": [
    {
     "name": "stdout",
     "output_type": "stream",
     "text": [
      "[0 1 2]\n",
      "0.1812106244644927\n",
      "[0 1 2]\n",
      "0.25999663717345534\n",
      "[0 1 2]\n",
      "0.47383151708889304\n",
      "[0 1 2]\n",
      "0.5827713856644232\n",
      "[0 1 2]\n",
      "0.7375683150885212\n",
      "[0 1 2]\n",
      "1.0327920260272545\n",
      "[0 1 2]\n",
      "1.1015962512821276\n",
      "[0 1 2]\n",
      "1.1498368837480397\n",
      "[0 1 2]\n",
      "1.2237072700492972\n",
      "[0 1 2]\n",
      "1.445062789946968\n"
     ]
    }
   ],
   "source": [
    "masks = np.load('./data/ds_np/480_ma.npy')\n",
    "masks_test = np.load('./data/test_ds_np/480_ma.npy')\n",
    "\n",
    "masks = np.concatenate((masks, masks_test), axis=0)\n",
    "\n",
    "num_imgs = 0\n",
    "mpf_coll = 0\n",
    "\n",
    "for im in masks:\n",
    "    num_imgs += 1\n",
    "    print(np.unique(im))\n",
    "    #mask = im[im==0]\n",
    "    pond = np.sum(im==0)\n",
    "    sea_ice = np.sum(im==1)\n",
    "    ocean = np.sum(im==2)\n",
    "    mpf = pond / ( sea_ice + pond )\n",
    "    mpf_coll += mpf\n",
    "    print(mpf_coll)\n",
    "\n",
    "mpf_tir_train = mpf_coll / num_imgs\n"
   ]
  },
  {
   "cell_type": "code",
   "execution_count": 6,
   "metadata": {},
   "outputs": [
    {
     "name": "stdout",
     "output_type": "stream",
     "text": [
      "0.14450627899469679\n"
     ]
    }
   ],
   "source": [
    "print(mpf_tir_train)"
   ]
  },
  {
   "cell_type": "code",
   "execution_count": 28,
   "metadata": {},
   "outputs": [
    {
     "name": "stdout",
     "output_type": "stream",
     "text": [
      "151510\n",
      "151434\n",
      "151518\n",
      "151602\n",
      "151610\n",
      "152002\n",
      "153634\n",
      "153938\n"
     ]
    }
   ],
   "source": [
    "import matplotlib.pyplot as plt\n",
    "import shutil\n",
    "\n",
    "# get the corresponding VIS images for the same seconds\n",
    "seconds = [151510, 151434, 151518, 151602, 151610, 152002, 153634, 153938]\n",
    "\n",
    "all_vis = 'E:/polar/code/data/vis/entire_raw/'\n",
    "sel_dir = 'E:/polar/code/data/evaluation/mpf/vis_train/'\n",
    "vis_sel = []\n",
    "\n",
    "\n",
    "for sec in seconds:\n",
    "   for f in os.listdir(all_vis):\n",
    "      if str(sec) in f:\n",
    "         shutil.copy(os.path.join(all_vis, f), sel_dir)\n",
    "         im = cv2.imread(os.path.join(all_vis, f))\n",
    "         vis_sel.append(im)\n"
   ]
  },
  {
   "cell_type": "markdown",
   "metadata": {},
   "source": [
    "### Classify corresponding VIS using OSSP \n",
    "Terminal command: (ossp) PS E:\\polar\\code\\ponds\\ponds\\vis_segmentation\\OSSP-wright> python ossp_process.py 'E:/polar/code/data/evaluation/mpf/vis_train_cropped/' 'srgb' 'E:/polar/code/ponds/ponds/vis_segmentation/OSSP-wright/training_datasets/icebridge_v5_training_data.h5' -v\n",
    "\n",
    "- replace the path where OSSP-wright folder is located and where vis images are located ('unet_melt_pond_detection/mpf_data/vis_train_cropped')"
   ]
  },
  {
   "cell_type": "code",
   "execution_count": 2,
   "metadata": {},
   "outputs": [
    {
     "name": "stdout",
     "output_type": "stream",
     "text": [
      "0.13130676667501365\n",
      "0.2596393611908771\n",
      "0.4826652956864231\n",
      "0.7312515698553593\n",
      "0.984973662641896\n",
      "1.128374199464119\n",
      "1.3610323236512185\n",
      "1.6989793294796822\n",
      "1.8681736570470813\n",
      "1.9915788427494592\n"
     ]
    }
   ],
   "source": [
    "# contains the maunally cropped images\n",
    "vis_crop_dir = 'E:/polar/code/data/evaluation/mpf/vis_train_cropped/classified/'\n",
    "num_imgs = 0\n",
    "mpf_coll = 0\n",
    "\n",
    "for f in os.listdir(vis_crop_dir):\n",
    "    if f.endswith('.tif'):\n",
    "        num_imgs += 1\n",
    "        im = cv2.imread(os.path.join(vis_crop_dir, f),0)\n",
    "        white_ice = np.sum(im==1)\n",
    "        gray_ice = np.sum(im==2)\n",
    "        pond = np.sum(im==3)\n",
    "        mpf = ( pond / ( white_ice + gray_ice + pond) )\n",
    "        mpf_coll += mpf\n",
    "mpf_vis_train = mpf_coll / num_imgs"
   ]
  },
  {
   "cell_type": "code",
   "execution_count": 10,
   "metadata": {},
   "outputs": [
    {
     "name": "stdout",
     "output_type": "stream",
     "text": [
      "0.1991578842749459\n"
     ]
    }
   ],
   "source": [
    "print(mpf_vis_train)"
   ]
  }
 ],
 "metadata": {
  "kernelspec": {
   "display_name": "sea_ice",
   "language": "python",
   "name": "python3"
  },
  "language_info": {
   "codemirror_mode": {
    "name": "ipython",
    "version": 3
   },
   "file_extension": ".py",
   "mimetype": "text/x-python",
   "name": "python",
   "nbconvert_exporter": "python",
   "pygments_lexer": "ipython3",
   "version": "3.10.0"
  },
  "orig_nbformat": 4
 },
 "nbformat": 4,
 "nbformat_minor": 2
}
